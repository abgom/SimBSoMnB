{
 "cells": [
  {
   "cell_type": "markdown",
   "metadata": {},
   "source": [
    "### Simulations for Berlin School of Mind and Brain\n",
    "Author: Angel Bujalance Gómez\n",
    "Contact: angelbujalanceg@gmail.com\n",
    "LinkedIn:https://www.linkedin.com/in/angelbujalanceg/"
   ]
  },
  {
   "cell_type": "code",
   "execution_count": 71,
   "metadata": {},
   "outputs": [],
   "source": [
    "import pandas as pd\n",
    "import numpy as np\n",
    "import seaborn as sns\n",
    "import os, glob\n",
    "import matplotlib.pyplot as plt\n",
    "import plotly.graph_objects as go\n",
    "from matplotlib.lines import Line2D\n",
    "\n",
    "import statsmodels.formula.api as smf\n",
    "import statsmodels.api as sm"
   ]
  },
  {
   "cell_type": "code",
   "execution_count": 72,
   "metadata": {},
   "outputs": [],
   "source": [
    "# criterion, bias, threshold, npar\n",
    "def sample (n): #insert the number of participants and it will compute the important variables for them \n",
    "    #threshold is set to 0.5; criterion and bias have mean in 0\n",
    "    mu_t = 0.65; sigma_t = 0.25; #the threshold is set to be high\n",
    "    mu_c  = 0;  sigma_c = 0.3;\n",
    "    #bias is set to 0 and it is ready to be computed in case of need \n",
    "    df0 = pd.DataFrame([])\n",
    "    ndata = pd.DataFrame([])\n",
    "    part_number = np.zeros(shape=( 1, 1))\n",
    "    \n",
    "    for subject in range(n):\n",
    "        part_number = part_number + 1\n",
    "        threshold = np.random.normal(mu_t, sigma_t, 1); criterion = np.random.normal(mu_c, sigma_c, 1); bias = 0;\n",
    "        df1 = pd.DataFrame({'threshold':threshold, 'criterion':criterion, 'bias': bias})\n",
    "        pardf = pd.DataFrame(part_number, columns = ['npar'])\n",
    "        ndata = pd.concat([ndata, pardf], axis = 0)\n",
    "        df0 = pd.concat([df0, df1], axis = 0)\n",
    "    df = pd.concat([ndata, df0], axis = 1)\n",
    "    return df\n",
    "\n",
    "def log_reg_fit(x, f): # this function is used to calculate the log linear regression between two vectors\n",
    "    # function by Alexis Pérez Bellido. Shared with me during the master\n",
    "    reg = smf.glm(formula = f, data = x, family=sm.families.Binomial()).fit() \n",
    "    params = reg.params\n",
    "    # concatenating parameters\n",
    "    out = pd.DataFrame({'intercept':[params[0]] , 'weight':[params[1]]})\n",
    "    return out #intercept + weight"
   ]
  },
  {
   "cell_type": "code",
   "execution_count": 73,
   "metadata": {},
   "outputs": [
    {
     "data": {
      "text/html": [
       "<div>\n",
       "<style scoped>\n",
       "    .dataframe tbody tr th:only-of-type {\n",
       "        vertical-align: middle;\n",
       "    }\n",
       "\n",
       "    .dataframe tbody tr th {\n",
       "        vertical-align: top;\n",
       "    }\n",
       "\n",
       "    .dataframe thead th {\n",
       "        text-align: right;\n",
       "    }\n",
       "</style>\n",
       "<table border=\"1\" class=\"dataframe\">\n",
       "  <thead>\n",
       "    <tr style=\"text-align: right;\">\n",
       "      <th></th>\n",
       "      <th>npar</th>\n",
       "      <th>threshold</th>\n",
       "      <th>criterion</th>\n",
       "      <th>bias</th>\n",
       "    </tr>\n",
       "  </thead>\n",
       "  <tbody>\n",
       "    <tr>\n",
       "      <th>0</th>\n",
       "      <td>1.0</td>\n",
       "      <td>0.328107</td>\n",
       "      <td>-0.247764</td>\n",
       "      <td>0</td>\n",
       "    </tr>\n",
       "    <tr>\n",
       "      <th>0</th>\n",
       "      <td>2.0</td>\n",
       "      <td>0.314773</td>\n",
       "      <td>-0.135604</td>\n",
       "      <td>0</td>\n",
       "    </tr>\n",
       "    <tr>\n",
       "      <th>0</th>\n",
       "      <td>3.0</td>\n",
       "      <td>0.804671</td>\n",
       "      <td>0.044061</td>\n",
       "      <td>0</td>\n",
       "    </tr>\n",
       "    <tr>\n",
       "      <th>0</th>\n",
       "      <td>4.0</td>\n",
       "      <td>0.565798</td>\n",
       "      <td>-0.386922</td>\n",
       "      <td>0</td>\n",
       "    </tr>\n",
       "    <tr>\n",
       "      <th>0</th>\n",
       "      <td>5.0</td>\n",
       "      <td>0.980473</td>\n",
       "      <td>-0.098656</td>\n",
       "      <td>0</td>\n",
       "    </tr>\n",
       "  </tbody>\n",
       "</table>\n",
       "</div>"
      ],
      "text/plain": [
       "   npar  threshold  criterion  bias\n",
       "0   1.0   0.328107  -0.247764     0\n",
       "0   2.0   0.314773  -0.135604     0\n",
       "0   3.0   0.804671   0.044061     0\n",
       "0   4.0   0.565798  -0.386922     0\n",
       "0   5.0   0.980473  -0.098656     0"
      ]
     },
     "execution_count": 73,
     "metadata": {},
     "output_type": "execute_result"
    }
   ],
   "source": [
    "a = sample(10)\n",
    "a.head()"
   ]
  },
  {
   "cell_type": "code",
   "execution_count": 74,
   "metadata": {},
   "outputs": [
    {
     "data": {
      "image/png": "[encoded data removed]",
      "text/plain": [
       "<Figure size 432x288 with 1 Axes>"
      ]
     },
     "metadata": {
      "needs_background": "light"
     },
     "output_type": "display_data"
    }
   ],
   "source": [
    "signal = 0.2; sigma = 0.35 # the overall level of signal is love, to make the perceptual decision process a bit hard\n",
    "dv = np.random.normal(signal, sigma, 2000) # 2000 stimuli\n",
    "dv = dv[ (dv >= -0.05) & (dv <= 1) ] # stimuli with negative or larger than 1 values were removed\n",
    "\n",
    "plt.hist(dv, bins='auto', color='#0504aa', alpha=0.7, rwidth=0.85) #distribution of the \"stimuli\" depending on dv\n",
    "plt.grid(axis='y', alpha=0.4)"
   ]
  },
  {
   "cell_type": "code",
   "execution_count": 75,
   "metadata": {},
   "outputs": [
    {
     "data": {
      "text/html": [
       "<div>\n",
       "<style scoped>\n",
       "    .dataframe tbody tr th:only-of-type {\n",
       "        vertical-align: middle;\n",
       "    }\n",
       "\n",
       "    .dataframe tbody tr th {\n",
       "        vertical-align: top;\n",
       "    }\n",
       "\n",
       "    .dataframe thead th {\n",
       "        text-align: right;\n",
       "    }\n",
       "</style>\n",
       "<table border=\"1\" class=\"dataframe\">\n",
       "  <thead>\n",
       "    <tr style=\"text-align: right;\">\n",
       "      <th></th>\n",
       "      <th>npar</th>\n",
       "      <th>threshold</th>\n",
       "      <th>criterion</th>\n",
       "      <th>bias</th>\n",
       "      <th>expectations</th>\n",
       "      <th>dv</th>\n",
       "    </tr>\n",
       "  </thead>\n",
       "  <tbody>\n",
       "    <tr>\n",
       "      <th>0</th>\n",
       "      <td>1.0</td>\n",
       "      <td>0.821326</td>\n",
       "      <td>-0.026797</td>\n",
       "      <td>0</td>\n",
       "      <td>0.9</td>\n",
       "      <td>0.754326</td>\n",
       "    </tr>\n",
       "    <tr>\n",
       "      <th>1</th>\n",
       "      <td>2.0</td>\n",
       "      <td>0.587656</td>\n",
       "      <td>0.161355</td>\n",
       "      <td>0</td>\n",
       "      <td>0.9</td>\n",
       "      <td>0.754326</td>\n",
       "    </tr>\n",
       "    <tr>\n",
       "      <th>2</th>\n",
       "      <td>3.0</td>\n",
       "      <td>0.672819</td>\n",
       "      <td>0.357582</td>\n",
       "      <td>0</td>\n",
       "      <td>0.9</td>\n",
       "      <td>0.754326</td>\n",
       "    </tr>\n",
       "    <tr>\n",
       "      <th>3</th>\n",
       "      <td>4.0</td>\n",
       "      <td>0.149138</td>\n",
       "      <td>-0.144579</td>\n",
       "      <td>0</td>\n",
       "      <td>0.9</td>\n",
       "      <td>0.754326</td>\n",
       "    </tr>\n",
       "    <tr>\n",
       "      <th>4</th>\n",
       "      <td>5.0</td>\n",
       "      <td>0.969313</td>\n",
       "      <td>0.299000</td>\n",
       "      <td>0</td>\n",
       "      <td>0.9</td>\n",
       "      <td>0.754326</td>\n",
       "    </tr>\n",
       "  </tbody>\n",
       "</table>\n",
       "</div>"
      ],
      "text/plain": [
       "   npar  threshold  criterion  bias  expectations        dv\n",
       "0   1.0   0.821326  -0.026797     0           0.9  0.754326\n",
       "1   2.0   0.587656   0.161355     0           0.9  0.754326\n",
       "2   3.0   0.672819   0.357582     0           0.9  0.754326\n",
       "3   4.0   0.149138  -0.144579     0           0.9  0.754326\n",
       "4   5.0   0.969313   0.299000     0           0.9  0.754326"
      ]
     },
     "execution_count": 75,
     "metadata": {},
     "output_type": "execute_result"
    }
   ],
   "source": [
    "n = 200 # 200 simulated participants will participate in the experiment\n",
    "df = sample(n)\n",
    "expectations = np.array([0.9, 0.6, 0.15, 0])\n",
    "\n",
    "reps = expectations.shape[0]*dv.shape[0]; reps_dv = expectations.shape[0]*n; reps_ex = dv.shape[0]*n\n",
    "\n",
    "dv_df = pd.DataFrame(dv, columns = ['dv']); dv_df = pd.concat([dv_df]*reps_dv).sort_index()\n",
    "exp_df = pd.DataFrame(expectations, columns = ['expectations']); exp_df = pd.concat([exp_df]*reps_ex).sort_index()\n",
    "dfa = pd.concat([df]*reps).sort_index()\n",
    "\n",
    "exp_df.reset_index(drop=True, inplace=True); dv_df.reset_index(drop=True, inplace=True); dfa.reset_index(drop=True, inplace=True)\n",
    "\n",
    "df = pd.concat([dfa, exp_df, dv_df], axis = 1)\n",
    "\n",
    "\n",
    "df.head(5)"
   ]
  },
  {
   "cell_type": "code",
   "execution_count": 76,
   "metadata": {},
   "outputs": [
    {
     "name": "stdout",
     "output_type": "stream",
     "text": [
      "(1212000, 4)\n",
      "(1212000, 1)\n",
      "(1212000, 1)\n",
      "(1212000, 6)\n"
     ]
    }
   ],
   "source": [
    "print(dfa.shape)\n",
    "print(dv_df.shape)\n",
    "print(exp_df.shape)\n",
    "print(df.shape)"
   ]
  },
  {
   "cell_type": "code",
   "execution_count": 77,
   "metadata": {},
   "outputs": [],
   "source": [
    "### MODEL ###\n",
    "\n",
    "df['deci'] = 0\n",
    "df.loc[(( df.expectations*0.1 + df.dv + df.criterion) > df.threshold - df.threshold * df.expectations)  , 'deci'] = 1\n",
    "\n",
    "df['rdeci'] = df.threshold + df.criterion + df.expectations*1"
   ]
  },
  {
   "cell_type": "code",
   "execution_count": 78,
   "metadata": {},
   "outputs": [
    {
     "data": {
      "text/html": [
       "<div>\n",
       "<style scoped>\n",
       "    .dataframe tbody tr th:only-of-type {\n",
       "        vertical-align: middle;\n",
       "    }\n",
       "\n",
       "    .dataframe tbody tr th {\n",
       "        vertical-align: top;\n",
       "    }\n",
       "\n",
       "    .dataframe thead th {\n",
       "        text-align: right;\n",
       "    }\n",
       "</style>\n",
       "<table border=\"1\" class=\"dataframe\">\n",
       "  <thead>\n",
       "    <tr style=\"text-align: right;\">\n",
       "      <th></th>\n",
       "      <th>npar</th>\n",
       "      <th>threshold</th>\n",
       "      <th>criterion</th>\n",
       "      <th>bias</th>\n",
       "      <th>expectations</th>\n",
       "      <th>dv</th>\n",
       "      <th>deci</th>\n",
       "      <th>rdeci</th>\n",
       "    </tr>\n",
       "  </thead>\n",
       "  <tbody>\n",
       "    <tr>\n",
       "      <th>0</th>\n",
       "      <td>1.0</td>\n",
       "      <td>0.821326</td>\n",
       "      <td>-0.026797</td>\n",
       "      <td>0</td>\n",
       "      <td>0.9</td>\n",
       "      <td>0.754326</td>\n",
       "      <td>1</td>\n",
       "      <td>1.694529</td>\n",
       "    </tr>\n",
       "    <tr>\n",
       "      <th>1</th>\n",
       "      <td>2.0</td>\n",
       "      <td>0.587656</td>\n",
       "      <td>0.161355</td>\n",
       "      <td>0</td>\n",
       "      <td>0.9</td>\n",
       "      <td>0.754326</td>\n",
       "      <td>1</td>\n",
       "      <td>1.649011</td>\n",
       "    </tr>\n",
       "    <tr>\n",
       "      <th>2</th>\n",
       "      <td>3.0</td>\n",
       "      <td>0.672819</td>\n",
       "      <td>0.357582</td>\n",
       "      <td>0</td>\n",
       "      <td>0.9</td>\n",
       "      <td>0.754326</td>\n",
       "      <td>1</td>\n",
       "      <td>1.930401</td>\n",
       "    </tr>\n",
       "    <tr>\n",
       "      <th>3</th>\n",
       "      <td>4.0</td>\n",
       "      <td>0.149138</td>\n",
       "      <td>-0.144579</td>\n",
       "      <td>0</td>\n",
       "      <td>0.9</td>\n",
       "      <td>0.754326</td>\n",
       "      <td>1</td>\n",
       "      <td>0.904560</td>\n",
       "    </tr>\n",
       "    <tr>\n",
       "      <th>4</th>\n",
       "      <td>5.0</td>\n",
       "      <td>0.969313</td>\n",
       "      <td>0.299000</td>\n",
       "      <td>0</td>\n",
       "      <td>0.9</td>\n",
       "      <td>0.754326</td>\n",
       "      <td>1</td>\n",
       "      <td>2.168313</td>\n",
       "    </tr>\n",
       "  </tbody>\n",
       "</table>\n",
       "</div>"
      ],
      "text/plain": [
       "   npar  threshold  criterion  bias  expectations        dv  deci     rdeci\n",
       "0   1.0   0.821326  -0.026797     0           0.9  0.754326     1  1.694529\n",
       "1   2.0   0.587656   0.161355     0           0.9  0.754326     1  1.649011\n",
       "2   3.0   0.672819   0.357582     0           0.9  0.754326     1  1.930401\n",
       "3   4.0   0.149138  -0.144579     0           0.9  0.754326     1  0.904560\n",
       "4   5.0   0.969313   0.299000     0           0.9  0.754326     1  2.168313"
      ]
     },
     "execution_count": 78,
     "metadata": {},
     "output_type": "execute_result"
    }
   ],
   "source": [
    "df.head()"
   ]
  },
  {
   "cell_type": "code",
   "execution_count": 93,
   "metadata": {},
   "outputs": [
    {
     "data": {
      "text/plain": [
       "<matplotlib.legend.Legend at 0x2141b699ec8>"
      ]
     },
     "execution_count": 93,
     "metadata": {},
     "output_type": "execute_result"
    },
    {
     "data": {
      "image/png": "[encoded data removed]",
      "text/plain": [
       "<Figure size 504x720 with 1 Axes>"
      ]
     },
     "metadata": {
      "needs_background": "light"
     },
     "output_type": "display_data"
    }
   ],
   "source": [
    "plt.subplots(ncols = 1, figsize = (7,10))\n",
    "\n",
    "xpct_labels = np.unique(df.expectations) #expectations\n",
    "npar_labels = np.unique(df.npar) #npar\n",
    "\n",
    "mycol = [\"#caf0f8\", \"#48cae4\", \"#0096c7\", '#023e8a']\n",
    "sns.set_palette(mycol)\n",
    "\n",
    "ax = plt.axvline(0.5, ls='--', color= 'black', alpha=0.2)\n",
    "ax = plt.axhline(0.5, ls='--', color= 'black', alpha=0.2)\n",
    "\n",
    "for cell in xpct_labels: #for loop to compute the plot by the average sample\n",
    "    sns.set_palette(mycol)\n",
    "    ax = sns.regplot(x=\"dv\", y=\"deci\",  data=df.loc[df.expectations == cell,:],\n",
    "           logistic=True, y_jitter=0, scatter_kws={'alpha':0}, n_boot=1,  label=cell,  truncate=True, line_kws ={'lw':3.4}); #mean by participant\n",
    "sns.despine(offset=4, trim=True);\n",
    "plt.ylabel('p(detected)', fontsize = 25, labelpad=20); plt.yticks(np.arange(0, 1.1, step=0.25), fontsize = 15) #labelpad is the space between the label and the axis\n",
    "plt.xlabel('Decision Variable', fontdict={'size':25}, labelpad=20); plt.xticks(np.arange(0, 1.1, step=0.2), fontsize = 15)\n",
    "lines = [Line2D([0], [0], color=c, linewidth=3) for c in mycol]; labels = ['>2', '2', '1', '0']; plt.legend(lines, labels, bbox_to_anchor=(0.68,0.25), fontsize=15, title = 'Movements\\nto epicentre:', title_fontsize =13, framealpha= 0.2)\n"
   ]
  },
  {
   "cell_type": "code",
   "execution_count": 81,
   "metadata": {},
   "outputs": [
    {
     "data": {
      "text/html": [
       "<div>\n",
       "<style scoped>\n",
       "    .dataframe tbody tr th:only-of-type {\n",
       "        vertical-align: middle;\n",
       "    }\n",
       "\n",
       "    .dataframe tbody tr th {\n",
       "        vertical-align: top;\n",
       "    }\n",
       "\n",
       "    .dataframe thead th {\n",
       "        text-align: right;\n",
       "    }\n",
       "</style>\n",
       "<table border=\"1\" class=\"dataframe\">\n",
       "  <thead>\n",
       "    <tr style=\"text-align: right;\">\n",
       "      <th></th>\n",
       "      <th>expectations</th>\n",
       "      <th>level_1</th>\n",
       "      <th>intercept</th>\n",
       "      <th>weight</th>\n",
       "      <th>movements</th>\n",
       "    </tr>\n",
       "  </thead>\n",
       "  <tbody>\n",
       "    <tr>\n",
       "      <th>0</th>\n",
       "      <td>0.00</td>\n",
       "      <td>0</td>\n",
       "      <td>-2.551001</td>\n",
       "      <td>3.838074</td>\n",
       "      <td>3</td>\n",
       "    </tr>\n",
       "    <tr>\n",
       "      <th>1</th>\n",
       "      <td>0.15</td>\n",
       "      <td>0</td>\n",
       "      <td>-2.240670</td>\n",
       "      <td>4.102334</td>\n",
       "      <td>2</td>\n",
       "    </tr>\n",
       "    <tr>\n",
       "      <th>2</th>\n",
       "      <td>0.60</td>\n",
       "      <td>0</td>\n",
       "      <td>-1.075934</td>\n",
       "      <td>5.242832</td>\n",
       "      <td>1</td>\n",
       "    </tr>\n",
       "    <tr>\n",
       "      <th>3</th>\n",
       "      <td>0.90</td>\n",
       "      <td>0</td>\n",
       "      <td>0.037780</td>\n",
       "      <td>5.935858</td>\n",
       "      <td>0</td>\n",
       "    </tr>\n",
       "  </tbody>\n",
       "</table>\n",
       "</div>"
      ],
      "text/plain": [
       "   expectations  level_1  intercept    weight movements\n",
       "0          0.00        0  -2.551001  3.838074         3\n",
       "1          0.15        0  -2.240670  4.102334         2\n",
       "2          0.60        0  -1.075934  5.242832         1\n",
       "3          0.90        0   0.037780  5.935858         0"
      ]
     },
     "execution_count": 81,
     "metadata": {},
     "output_type": "execute_result"
    }
   ],
   "source": [
    "formula = \"deci ~ dv\"\n",
    "\n",
    "log_reg_xpct = df.groupby(['expectations']).apply(log_reg_fit, formula)\n",
    "log_reg_xpct.reset_index(inplace = True)\n",
    "log_reg_xpct = log_reg_xpct.assign(movements = ['3', '2', '1', '0']) \n",
    "log_reg_xpct.tail(5)"
   ]
  },
  {
   "cell_type": "code",
   "execution_count": 82,
   "metadata": {},
   "outputs": [
    {
     "data": {
      "application/vnd.plotly.v1+json": {
       "config": {
        "plotlyServerURL": "https://plot.ly"
       },
       "data": [
        {
         "marker": {
          "color": "#023e8a"
         },
         "name": "0.9",
         "showlegend": false,
         "type": "bar",
         "x": [
          "0"
         ],
         "y": [
          5.9358580887211705
         ]
        },
        {
         "marker": {
          "color": "#0096c7"
         },
         "name": ".6",
         "showlegend": false,
         "type": "bar",
         "x": [
          "1"
         ],
         "y": [
          5.242832157353276
         ]
        },
        {
         "marker": {
          "color": "#48cae4"
         },
         "name": ".15",
         "showlegend": false,
         "type": "bar",
         "x": [
          "2"
         ],
         "y": [
          4.10233352991148
         ]
        },
        {
         "marker": {
          "color": "#caf0f8"
         },
         "name": "0",
         "showlegend": false,
         "type": "bar",
         "x": [
          "3"
         ],
         "y": [
          3.838074464183299
         ]
        }
       ],
       "layout": {
        "boxgroupgap": 0,
        "font": {
         "color": "#424242",
         "family": "Balto, sans-serif",
         "size": 15
        },
        "shapes": [
         {
          "line": {
           "color": "#595858",
           "width": 2.2
          },
          "type": "line",
          "x0": -0.45,
          "x1": 3.45,
          "xref": "x",
          "y0": 0,
          "y1": 0,
          "yref": "y"
         }
        ],
        "template": {
         "data": {
          "bar": [
           {
            "error_x": {
             "color": "#2a3f5f"
            },
            "error_y": {
             "color": "#2a3f5f"
            },
            "marker": {
             "line": {
              "color": "white",
              "width": 0.5
             }
            },
            "type": "bar"
           }
          ],
          "barpolar": [
           {
            "marker": {
             "line": {
              "color": "white",
              "width": 0.5
             }
            },
            "type": "barpolar"
           }
          ],
          "carpet": [
           {
            "aaxis": {
             "endlinecolor": "#2a3f5f",
             "gridcolor": "#C8D4E3",
             "linecolor": "#C8D4E3",
             "minorgridcolor": "#C8D4E3",
             "startlinecolor": "#2a3f5f"
            },
            "baxis": {
             "endlinecolor": "#2a3f5f",
             "gridcolor": "#C8D4E3",
             "linecolor": "#C8D4E3",
             "minorgridcolor": "#C8D4E3",
             "startlinecolor": "#2a3f5f"
            },
            "type": "carpet"
           }
          ],
          "choropleth": [
           {
            "colorbar": {
             "outlinewidth": 0,
             "ticks": ""
            },
            "type": "choropleth"
           }
          ],
          "contour": [
           {
            "colorbar": {
             "outlinewidth": 0,
             "ticks": ""
            },
            "colorscale": [
             [
              0,
              "#0d0887"
             ],
             [
              0.1111111111111111,
              "#46039f"
             ],
             [
              0.2222222222222222,
              "#7201a8"
             ],
             [
              0.3333333333333333,
              "#9c179e"
             ],
             [
              0.4444444444444444,
              "#bd3786"
             ],
             [
              0.5555555555555556,
              "#d8576b"
             ],
             [
              0.6666666666666666,
              "#ed7953"
             ],
             [
              0.7777777777777778,
              "#fb9f3a"
             ],
             [
              0.8888888888888888,
              "#fdca26"
             ],
             [
              1,
              "#f0f921"
             ]
            ],
            "type": "contour"
           }
          ],
          "contourcarpet": [
           {
            "colorbar": {
             "outlinewidth": 0,
             "ticks": ""
            },
            "type": "contourcarpet"
           }
          ],
          "heatmap": [
           {
            "colorbar": {
             "outlinewidth": 0,
             "ticks": ""
            },
            "colorscale": [
             [
              0,
              "#0d0887"
             ],
             [
              0.1111111111111111,
              "#46039f"
             ],
             [
              0.2222222222222222,
              "#7201a8"
             ],
             [
              0.3333333333333333,
              "#9c179e"
             ],
             [
              0.4444444444444444,
              "#bd3786"
             ],
             [
              0.5555555555555556,
              "#d8576b"
             ],
             [
              0.6666666666666666,
              "#ed7953"
             ],
             [
              0.7777777777777778,
              "#fb9f3a"
             ],
             [
              0.8888888888888888,
              "#fdca26"
             ],
             [
              1,
              "#f0f921"
             ]
            ],
            "type": "heatmap"
           }
          ],
          "heatmapgl": [
           {
            "colorbar": {
             "outlinewidth": 0,
             "ticks": ""
            },
            "colorscale": [
             [
              0,
              "#0d0887"
             ],
             [
              0.1111111111111111,
              "#46039f"
             ],
             [
              0.2222222222222222,
              "#7201a8"
             ],
             [
              0.3333333333333333,
              "#9c179e"
             ],
             [
              0.4444444444444444,
              "#bd3786"
             ],
             [
              0.5555555555555556,
              "#d8576b"
             ],
             [
              0.6666666666666666,
              "#ed7953"
             ],
             [
              0.7777777777777778,
              "#fb9f3a"
             ],
             [
              0.8888888888888888,
              "#fdca26"
             ],
             [
              1,
              "#f0f921"
             ]
            ],
            "type": "heatmapgl"
           }
          ],
          "histogram": [
           {
            "marker": {
             "colorbar": {
              "outlinewidth": 0,
              "ticks": ""
             }
            },
            "type": "histogram"
           }
          ],
          "histogram2d": [
           {
            "colorbar": {
             "outlinewidth": 0,
             "ticks": ""
            },
            "colorscale": [
             [
              0,
              "#0d0887"
             ],
             [
              0.1111111111111111,
              "#46039f"
             ],
             [
              0.2222222222222222,
              "#7201a8"
             ],
             [
              0.3333333333333333,
              "#9c179e"
             ],
             [
              0.4444444444444444,
              "#bd3786"
             ],
             [
              0.5555555555555556,
              "#d8576b"
             ],
             [
              0.6666666666666666,
              "#ed7953"
             ],
             [
              0.7777777777777778,
              "#fb9f3a"
             ],
             [
              0.8888888888888888,
              "#fdca26"
             ],
             [
              1,
              "#f0f921"
             ]
            ],
            "type": "histogram2d"
           }
          ],
          "histogram2dcontour": [
           {
            "colorbar": {
             "outlinewidth": 0,
             "ticks": ""
            },
            "colorscale": [
             [
              0,
              "#0d0887"
             ],
             [
              0.1111111111111111,
              "#46039f"
             ],
             [
              0.2222222222222222,
              "#7201a8"
             ],
             [
              0.3333333333333333,
              "#9c179e"
             ],
             [
              0.4444444444444444,
              "#bd3786"
             ],
             [
              0.5555555555555556,
              "#d8576b"
             ],
             [
              0.6666666666666666,
              "#ed7953"
             ],
             [
              0.7777777777777778,
              "#fb9f3a"
             ],
             [
              0.8888888888888888,
              "#fdca26"
             ],
             [
              1,
              "#f0f921"
             ]
            ],
            "type": "histogram2dcontour"
           }
          ],
          "mesh3d": [
           {
            "colorbar": {
             "outlinewidth": 0,
             "ticks": ""
            },
            "type": "mesh3d"
           }
          ],
          "parcoords": [
           {
            "line": {
             "colorbar": {
              "outlinewidth": 0,
              "ticks": ""
             }
            },
            "type": "parcoords"
           }
          ],
          "pie": [
           {
            "automargin": true,
            "type": "pie"
           }
          ],
          "scatter": [
           {
            "marker": {
             "colorbar": {
              "outlinewidth": 0,
              "ticks": ""
             }
            },
            "type": "scatter"
           }
          ],
          "scatter3d": [
           {
            "line": {
             "colorbar": {
              "outlinewidth": 0,
              "ticks": ""
             }
            },
            "marker": {
             "colorbar": {
              "outlinewidth": 0,
              "ticks": ""
             }
            },
            "type": "scatter3d"
           }
          ],
          "scattercarpet": [
           {
            "marker": {
             "colorbar": {
              "outlinewidth": 0,
              "ticks": ""
             }
            },
            "type": "scattercarpet"
           }
          ],
          "scattergeo": [
           {
            "marker": {
             "colorbar": {
              "outlinewidth": 0,
              "ticks": ""
             }
            },
            "type": "scattergeo"
           }
          ],
          "scattergl": [
           {
            "marker": {
             "colorbar": {
              "outlinewidth": 0,
              "ticks": ""
             }
            },
            "type": "scattergl"
           }
          ],
          "scattermapbox": [
           {
            "marker": {
             "colorbar": {
              "outlinewidth": 0,
              "ticks": ""
             }
            },
            "type": "scattermapbox"
           }
          ],
          "scatterpolar": [
           {
            "marker": {
             "colorbar": {
              "outlinewidth": 0,
              "ticks": ""
             }
            },
            "type": "scatterpolar"
           }
          ],
          "scatterpolargl": [
           {
            "marker": {
             "colorbar": {
              "outlinewidth": 0,
              "ticks": ""
             }
            },
            "type": "scatterpolargl"
           }
          ],
          "scatterternary": [
           {
            "marker": {
             "colorbar": {
              "outlinewidth": 0,
              "ticks": ""
             }
            },
            "type": "scatterternary"
           }
          ],
          "surface": [
           {
            "colorbar": {
             "outlinewidth": 0,
             "ticks": ""
            },
            "colorscale": [
             [
              0,
              "#0d0887"
             ],
             [
              0.1111111111111111,
              "#46039f"
             ],
             [
              0.2222222222222222,
              "#7201a8"
             ],
             [
              0.3333333333333333,
              "#9c179e"
             ],
             [
              0.4444444444444444,
              "#bd3786"
             ],
             [
              0.5555555555555556,
              "#d8576b"
             ],
             [
              0.6666666666666666,
              "#ed7953"
             ],
             [
              0.7777777777777778,
              "#fb9f3a"
             ],
             [
              0.8888888888888888,
              "#fdca26"
             ],
             [
              1,
              "#f0f921"
             ]
            ],
            "type": "surface"
           }
          ],
          "table": [
           {
            "cells": {
             "fill": {
              "color": "#EBF0F8"
             },
             "line": {
              "color": "white"
             }
            },
            "header": {
             "fill": {
              "color": "#C8D4E3"
             },
             "line": {
              "color": "white"
             }
            },
            "type": "table"
           }
          ]
         },
         "layout": {
          "annotationdefaults": {
           "arrowcolor": "#2a3f5f",
           "arrowhead": 0,
           "arrowwidth": 1
          },
          "coloraxis": {
           "colorbar": {
            "outlinewidth": 0,
            "ticks": ""
           }
          },
          "colorscale": {
           "diverging": [
            [
             0,
             "#8e0152"
            ],
            [
             0.1,
             "#c51b7d"
            ],
            [
             0.2,
             "#de77ae"
            ],
            [
             0.3,
             "#f1b6da"
            ],
            [
             0.4,
             "#fde0ef"
            ],
            [
             0.5,
             "#f7f7f7"
            ],
            [
             0.6,
             "#e6f5d0"
            ],
            [
             0.7,
             "#b8e186"
            ],
            [
             0.8,
             "#7fbc41"
            ],
            [
             0.9,
             "#4d9221"
            ],
            [
             1,
             "#276419"
            ]
           ],
           "sequential": [
            [
             0,
             "#0d0887"
            ],
            [
             0.1111111111111111,
             "#46039f"
            ],
            [
             0.2222222222222222,
             "#7201a8"
            ],
            [
             0.3333333333333333,
             "#9c179e"
            ],
            [
             0.4444444444444444,
             "#bd3786"
            ],
            [
             0.5555555555555556,
             "#d8576b"
            ],
            [
             0.6666666666666666,
             "#ed7953"
            ],
            [
             0.7777777777777778,
             "#fb9f3a"
            ],
            [
             0.8888888888888888,
             "#fdca26"
            ],
            [
             1,
             "#f0f921"
            ]
           ],
           "sequentialminus": [
            [
             0,
             "#0d0887"
            ],
            [
             0.1111111111111111,
             "#46039f"
            ],
            [
             0.2222222222222222,
             "#7201a8"
            ],
            [
             0.3333333333333333,
             "#9c179e"
            ],
            [
             0.4444444444444444,
             "#bd3786"
            ],
            [
             0.5555555555555556,
             "#d8576b"
            ],
            [
             0.6666666666666666,
             "#ed7953"
            ],
            [
             0.7777777777777778,
             "#fb9f3a"
            ],
            [
             0.8888888888888888,
             "#fdca26"
            ],
            [
             1,
             "#f0f921"
            ]
           ]
          },
          "colorway": [
           "#636efa",
           "#EF553B",
           "#00cc96",
           "#ab63fa",
           "#FFA15A",
           "#19d3f3",
           "#FF6692",
           "#B6E880",
           "#FF97FF",
           "#FECB52"
          ],
          "font": {
           "color": "#2a3f5f"
          },
          "geo": {
           "bgcolor": "white",
           "lakecolor": "white",
           "landcolor": "white",
           "showlakes": true,
           "showland": true,
           "subunitcolor": "#C8D4E3"
          },
          "hoverlabel": {
           "align": "left"
          },
          "hovermode": "closest",
          "mapbox": {
           "style": "light"
          },
          "paper_bgcolor": "white",
          "plot_bgcolor": "white",
          "polar": {
           "angularaxis": {
            "gridcolor": "#EBF0F8",
            "linecolor": "#EBF0F8",
            "ticks": ""
           },
           "bgcolor": "white",
           "radialaxis": {
            "gridcolor": "#EBF0F8",
            "linecolor": "#EBF0F8",
            "ticks": ""
           }
          },
          "scene": {
           "xaxis": {
            "backgroundcolor": "white",
            "gridcolor": "#DFE8F3",
            "gridwidth": 2,
            "linecolor": "#EBF0F8",
            "showbackground": true,
            "ticks": "",
            "zerolinecolor": "#EBF0F8"
           },
           "yaxis": {
            "backgroundcolor": "white",
            "gridcolor": "#DFE8F3",
            "gridwidth": 2,
            "linecolor": "#EBF0F8",
            "showbackground": true,
            "ticks": "",
            "zerolinecolor": "#EBF0F8"
           },
           "zaxis": {
            "backgroundcolor": "white",
            "gridcolor": "#DFE8F3",
            "gridwidth": 2,
            "linecolor": "#EBF0F8",
            "showbackground": true,
            "ticks": "",
            "zerolinecolor": "#EBF0F8"
           }
          },
          "shapedefaults": {
           "line": {
            "color": "#2a3f5f"
           }
          },
          "ternary": {
           "aaxis": {
            "gridcolor": "#DFE8F3",
            "linecolor": "#A2B1C6",
            "ticks": ""
           },
           "baxis": {
            "gridcolor": "#DFE8F3",
            "linecolor": "#A2B1C6",
            "ticks": ""
           },
           "bgcolor": "white",
           "caxis": {
            "gridcolor": "#DFE8F3",
            "linecolor": "#A2B1C6",
            "ticks": ""
           }
          },
          "title": {
           "x": 0.05
          },
          "xaxis": {
           "automargin": true,
           "gridcolor": "#EBF0F8",
           "linecolor": "#EBF0F8",
           "ticks": "",
           "title": {
            "standoff": 15
           },
           "zerolinecolor": "#EBF0F8",
           "zerolinewidth": 2
          },
          "yaxis": {
           "automargin": true,
           "gridcolor": "#EBF0F8",
           "linecolor": "#EBF0F8",
           "ticks": "",
           "title": {
            "standoff": 15
           },
           "zerolinecolor": "#EBF0F8",
           "zerolinewidth": 2
          }
         }
        },
        "xaxis": {
         "linecolor": "#696969",
         "linewidth": 1.5,
         "showgrid": false,
         "showline": false,
         "tickangle": 0,
         "tickcolor": "#696969",
         "tickfont": {
          "color": "#424242",
          "family": "Balto, sans-serif",
          "size": 18
         },
         "ticklen": 10,
         "ticks": "outside",
         "ticktext": [
          "0",
          "1",
          "2",
          ">2"
         ],
         "tickvals": [
          0,
          1,
          2,
          3
         ],
         "tickwidth": 2,
         "title": {
          "text": "Distance from the epicentre of the face (in movements)"
         }
        },
        "yaxis": {
         "gridcolor": "white",
         "linecolor": "#696969",
         "linewidth": 1.5,
         "range": [
          -0.01,
          6.02
         ],
         "showgrid": false,
         "showline": true,
         "tickcolor": "#696969",
         "tickfont": {
          "color": "#000000",
          "family": "Balto, sans-serif",
          "size": 16
         },
         "ticklen": 10,
         "ticks": "outside",
         "ticktext": [
          "0",
          "2",
          "4",
          "6",
          "8"
         ],
         "tickvals": [
          0,
          2,
          4,
          6
         ],
         "tickwidth": 2,
         "title": {
          "text": "Beta Weight (a.u.)"
         },
         "zeroline": false,
         "zerolinecolor": "Black",
         "zerolinewidth": 0
        }
       }
      },
      "text/html": [
       "<div>\n",
       "        \n",
       "        \n",
       "            <div id=\"77305b69-d64b-4bb7-b35b-42e044b918b0\" class=\"plotly-graph-div\" style=\"height:525px; width:100%;\"></div>\n",
       "            <script type=\"text/javascript\">\n",
       "                require([\"plotly\"], function(Plotly) {\n",
       "                    window.PLOTLYENV=window.PLOTLYENV || {};\n",
       "                    \n",
       "                if (document.getElementById(\"77305b69-d64b-4bb7-b35b-42e044b918b0\")) {\n",
       "                    Plotly.newPlot(\n",
       "                        '77305b69-d64b-4bb7-b35b-42e044b918b0',\n",
       "                        [{\"marker\": {\"color\": \"#023e8a\"}, \"name\": \"0.9\", \"showlegend\": false, \"type\": \"bar\", \"x\": [\"0\"], \"y\": [5.9358580887211705]}, {\"marker\": {\"color\": \"#0096c7\"}, \"name\": \".6\", \"showlegend\": false, \"type\": \"bar\", \"x\": [\"1\"], \"y\": [5.242832157353276]}, {\"marker\": {\"color\": \"#48cae4\"}, \"name\": \".15\", \"showlegend\": false, \"type\": \"bar\", \"x\": [\"2\"], \"y\": [4.10233352991148]}, {\"marker\": {\"color\": \"#caf0f8\"}, \"name\": \"0\", \"showlegend\": false, \"type\": \"bar\", \"x\": [\"3\"], \"y\": [3.838074464183299]}],\n",
       "                        {\"boxgroupgap\": 0, \"font\": {\"color\": \"#424242\", \"family\": \"Balto, sans-serif\", \"size\": 15}, \"shapes\": [{\"line\": {\"color\": \"#595858\", \"width\": 2.2}, \"type\": \"line\", \"x0\": -0.45, \"x1\": 3.45, \"xref\": \"x\", \"y0\": 0, \"y1\": 0, \"yref\": \"y\"}], \"template\": {\"data\": {\"bar\": [{\"error_x\": {\"color\": \"#2a3f5f\"}, \"error_y\": {\"color\": \"#2a3f5f\"}, \"marker\": {\"line\": {\"color\": \"white\", \"width\": 0.5}}, \"type\": \"bar\"}], \"barpolar\": [{\"marker\": {\"line\": {\"color\": \"white\", \"width\": 0.5}}, \"type\": \"barpolar\"}], \"carpet\": [{\"aaxis\": {\"endlinecolor\": \"#2a3f5f\", \"gridcolor\": \"#C8D4E3\", \"linecolor\": \"#C8D4E3\", \"minorgridcolor\": \"#C8D4E3\", \"startlinecolor\": \"#2a3f5f\"}, \"baxis\": {\"endlinecolor\": \"#2a3f5f\", \"gridcolor\": \"#C8D4E3\", \"linecolor\": \"#C8D4E3\", \"minorgridcolor\": \"#C8D4E3\", \"startlinecolor\": \"#2a3f5f\"}, \"type\": \"carpet\"}], \"choropleth\": [{\"colorbar\": {\"outlinewidth\": 0, \"ticks\": \"\"}, \"type\": \"choropleth\"}], \"contour\": [{\"colorbar\": {\"outlinewidth\": 0, \"ticks\": \"\"}, \"colorscale\": [[0.0, \"#0d0887\"], [0.1111111111111111, \"#46039f\"], [0.2222222222222222, \"#7201a8\"], [0.3333333333333333, \"#9c179e\"], [0.4444444444444444, \"#bd3786\"], [0.5555555555555556, \"#d8576b\"], [0.6666666666666666, \"#ed7953\"], [0.7777777777777778, \"#fb9f3a\"], [0.8888888888888888, \"#fdca26\"], [1.0, \"#f0f921\"]], \"type\": \"contour\"}], \"contourcarpet\": [{\"colorbar\": {\"outlinewidth\": 0, \"ticks\": \"\"}, \"type\": \"contourcarpet\"}], \"heatmap\": [{\"colorbar\": {\"outlinewidth\": 0, \"ticks\": \"\"}, \"colorscale\": [[0.0, \"#0d0887\"], [0.1111111111111111, \"#46039f\"], [0.2222222222222222, \"#7201a8\"], [0.3333333333333333, \"#9c179e\"], [0.4444444444444444, \"#bd3786\"], [0.5555555555555556, \"#d8576b\"], [0.6666666666666666, \"#ed7953\"], [0.7777777777777778, \"#fb9f3a\"], [0.8888888888888888, \"#fdca26\"], [1.0, \"#f0f921\"]], \"type\": \"heatmap\"}], \"heatmapgl\": [{\"colorbar\": {\"outlinewidth\": 0, \"ticks\": \"\"}, \"colorscale\": [[0.0, \"#0d0887\"], [0.1111111111111111, \"#46039f\"], [0.2222222222222222, \"#7201a8\"], [0.3333333333333333, \"#9c179e\"], [0.4444444444444444, \"#bd3786\"], [0.5555555555555556, \"#d8576b\"], [0.6666666666666666, \"#ed7953\"], [0.7777777777777778, \"#fb9f3a\"], [0.8888888888888888, \"#fdca26\"], [1.0, \"#f0f921\"]], \"type\": \"heatmapgl\"}], \"histogram\": [{\"marker\": {\"colorbar\": {\"outlinewidth\": 0, \"ticks\": \"\"}}, \"type\": \"histogram\"}], \"histogram2d\": [{\"colorbar\": {\"outlinewidth\": 0, \"ticks\": \"\"}, \"colorscale\": [[0.0, \"#0d0887\"], [0.1111111111111111, \"#46039f\"], [0.2222222222222222, \"#7201a8\"], [0.3333333333333333, \"#9c179e\"], [0.4444444444444444, \"#bd3786\"], [0.5555555555555556, \"#d8576b\"], [0.6666666666666666, \"#ed7953\"], [0.7777777777777778, \"#fb9f3a\"], [0.8888888888888888, \"#fdca26\"], [1.0, \"#f0f921\"]], \"type\": \"histogram2d\"}], \"histogram2dcontour\": [{\"colorbar\": {\"outlinewidth\": 0, \"ticks\": \"\"}, \"colorscale\": [[0.0, \"#0d0887\"], [0.1111111111111111, \"#46039f\"], [0.2222222222222222, \"#7201a8\"], [0.3333333333333333, \"#9c179e\"], [0.4444444444444444, \"#bd3786\"], [0.5555555555555556, \"#d8576b\"], [0.6666666666666666, \"#ed7953\"], [0.7777777777777778, \"#fb9f3a\"], [0.8888888888888888, \"#fdca26\"], [1.0, \"#f0f921\"]], \"type\": \"histogram2dcontour\"}], \"mesh3d\": [{\"colorbar\": {\"outlinewidth\": 0, \"ticks\": \"\"}, \"type\": \"mesh3d\"}], \"parcoords\": [{\"line\": {\"colorbar\": {\"outlinewidth\": 0, \"ticks\": \"\"}}, \"type\": \"parcoords\"}], \"pie\": [{\"automargin\": true, \"type\": \"pie\"}], \"scatter\": [{\"marker\": {\"colorbar\": {\"outlinewidth\": 0, \"ticks\": \"\"}}, \"type\": \"scatter\"}], \"scatter3d\": [{\"line\": {\"colorbar\": {\"outlinewidth\": 0, \"ticks\": \"\"}}, \"marker\": {\"colorbar\": {\"outlinewidth\": 0, \"ticks\": \"\"}}, \"type\": \"scatter3d\"}], \"scattercarpet\": [{\"marker\": {\"colorbar\": {\"outlinewidth\": 0, \"ticks\": \"\"}}, \"type\": \"scattercarpet\"}], \"scattergeo\": [{\"marker\": {\"colorbar\": {\"outlinewidth\": 0, \"ticks\": \"\"}}, \"type\": \"scattergeo\"}], \"scattergl\": [{\"marker\": {\"colorbar\": {\"outlinewidth\": 0, \"ticks\": \"\"}}, \"type\": \"scattergl\"}], \"scattermapbox\": [{\"marker\": {\"colorbar\": {\"outlinewidth\": 0, \"ticks\": \"\"}}, \"type\": \"scattermapbox\"}], \"scatterpolar\": [{\"marker\": {\"colorbar\": {\"outlinewidth\": 0, \"ticks\": \"\"}}, \"type\": \"scatterpolar\"}], \"scatterpolargl\": [{\"marker\": {\"colorbar\": {\"outlinewidth\": 0, \"ticks\": \"\"}}, \"type\": \"scatterpolargl\"}], \"scatterternary\": [{\"marker\": {\"colorbar\": {\"outlinewidth\": 0, \"ticks\": \"\"}}, \"type\": \"scatterternary\"}], \"surface\": [{\"colorbar\": {\"outlinewidth\": 0, \"ticks\": \"\"}, \"colorscale\": [[0.0, \"#0d0887\"], [0.1111111111111111, \"#46039f\"], [0.2222222222222222, \"#7201a8\"], [0.3333333333333333, \"#9c179e\"], [0.4444444444444444, \"#bd3786\"], [0.5555555555555556, \"#d8576b\"], [0.6666666666666666, \"#ed7953\"], [0.7777777777777778, \"#fb9f3a\"], [0.8888888888888888, \"#fdca26\"], [1.0, \"#f0f921\"]], \"type\": \"surface\"}], \"table\": [{\"cells\": {\"fill\": {\"color\": \"#EBF0F8\"}, \"line\": {\"color\": \"white\"}}, \"header\": {\"fill\": {\"color\": \"#C8D4E3\"}, \"line\": {\"color\": \"white\"}}, \"type\": \"table\"}]}, \"layout\": {\"annotationdefaults\": {\"arrowcolor\": \"#2a3f5f\", \"arrowhead\": 0, \"arrowwidth\": 1}, \"coloraxis\": {\"colorbar\": {\"outlinewidth\": 0, \"ticks\": \"\"}}, \"colorscale\": {\"diverging\": [[0, \"#8e0152\"], [0.1, \"#c51b7d\"], [0.2, \"#de77ae\"], [0.3, \"#f1b6da\"], [0.4, \"#fde0ef\"], [0.5, \"#f7f7f7\"], [0.6, \"#e6f5d0\"], [0.7, \"#b8e186\"], [0.8, \"#7fbc41\"], [0.9, \"#4d9221\"], [1, \"#276419\"]], \"sequential\": [[0.0, \"#0d0887\"], [0.1111111111111111, \"#46039f\"], [0.2222222222222222, \"#7201a8\"], [0.3333333333333333, \"#9c179e\"], [0.4444444444444444, \"#bd3786\"], [0.5555555555555556, \"#d8576b\"], [0.6666666666666666, \"#ed7953\"], [0.7777777777777778, \"#fb9f3a\"], [0.8888888888888888, \"#fdca26\"], [1.0, \"#f0f921\"]], \"sequentialminus\": [[0.0, \"#0d0887\"], [0.1111111111111111, \"#46039f\"], [0.2222222222222222, \"#7201a8\"], [0.3333333333333333, \"#9c179e\"], [0.4444444444444444, \"#bd3786\"], [0.5555555555555556, \"#d8576b\"], [0.6666666666666666, \"#ed7953\"], [0.7777777777777778, \"#fb9f3a\"], [0.8888888888888888, \"#fdca26\"], [1.0, \"#f0f921\"]]}, \"colorway\": [\"#636efa\", \"#EF553B\", \"#00cc96\", \"#ab63fa\", \"#FFA15A\", \"#19d3f3\", \"#FF6692\", \"#B6E880\", \"#FF97FF\", \"#FECB52\"], \"font\": {\"color\": \"#2a3f5f\"}, \"geo\": {\"bgcolor\": \"white\", \"lakecolor\": \"white\", \"landcolor\": \"white\", \"showlakes\": true, \"showland\": true, \"subunitcolor\": \"#C8D4E3\"}, \"hoverlabel\": {\"align\": \"left\"}, \"hovermode\": \"closest\", \"mapbox\": {\"style\": \"light\"}, \"paper_bgcolor\": \"white\", \"plot_bgcolor\": \"white\", \"polar\": {\"angularaxis\": {\"gridcolor\": \"#EBF0F8\", \"linecolor\": \"#EBF0F8\", \"ticks\": \"\"}, \"bgcolor\": \"white\", \"radialaxis\": {\"gridcolor\": \"#EBF0F8\", \"linecolor\": \"#EBF0F8\", \"ticks\": \"\"}}, \"scene\": {\"xaxis\": {\"backgroundcolor\": \"white\", \"gridcolor\": \"#DFE8F3\", \"gridwidth\": 2, \"linecolor\": \"#EBF0F8\", \"showbackground\": true, \"ticks\": \"\", \"zerolinecolor\": \"#EBF0F8\"}, \"yaxis\": {\"backgroundcolor\": \"white\", \"gridcolor\": \"#DFE8F3\", \"gridwidth\": 2, \"linecolor\": \"#EBF0F8\", \"showbackground\": true, \"ticks\": \"\", \"zerolinecolor\": \"#EBF0F8\"}, \"zaxis\": {\"backgroundcolor\": \"white\", \"gridcolor\": \"#DFE8F3\", \"gridwidth\": 2, \"linecolor\": \"#EBF0F8\", \"showbackground\": true, \"ticks\": \"\", \"zerolinecolor\": \"#EBF0F8\"}}, \"shapedefaults\": {\"line\": {\"color\": \"#2a3f5f\"}}, \"ternary\": {\"aaxis\": {\"gridcolor\": \"#DFE8F3\", \"linecolor\": \"#A2B1C6\", \"ticks\": \"\"}, \"baxis\": {\"gridcolor\": \"#DFE8F3\", \"linecolor\": \"#A2B1C6\", \"ticks\": \"\"}, \"bgcolor\": \"white\", \"caxis\": {\"gridcolor\": \"#DFE8F3\", \"linecolor\": \"#A2B1C6\", \"ticks\": \"\"}}, \"title\": {\"x\": 0.05}, \"xaxis\": {\"automargin\": true, \"gridcolor\": \"#EBF0F8\", \"linecolor\": \"#EBF0F8\", \"ticks\": \"\", \"title\": {\"standoff\": 15}, \"zerolinecolor\": \"#EBF0F8\", \"zerolinewidth\": 2}, \"yaxis\": {\"automargin\": true, \"gridcolor\": \"#EBF0F8\", \"linecolor\": \"#EBF0F8\", \"ticks\": \"\", \"title\": {\"standoff\": 15}, \"zerolinecolor\": \"#EBF0F8\", \"zerolinewidth\": 2}}}, \"xaxis\": {\"linecolor\": \"#696969\", \"linewidth\": 1.5, \"showgrid\": false, \"showline\": false, \"tickangle\": 0, \"tickcolor\": \"#696969\", \"tickfont\": {\"color\": \"#424242\", \"family\": \"Balto, sans-serif\", \"size\": 18}, \"ticklen\": 10, \"ticks\": \"outside\", \"ticktext\": [\"0\", \"1\", \"2\", \">2\"], \"tickvals\": [0, 1, 2, 3], \"tickwidth\": 2, \"title\": {\"text\": \"Distance from the epicentre of the face (in movements)\"}}, \"yaxis\": {\"gridcolor\": \"white\", \"linecolor\": \"#696969\", \"linewidth\": 1.5, \"range\": [-0.01, 6.02], \"showgrid\": false, \"showline\": true, \"tickcolor\": \"#696969\", \"tickfont\": {\"color\": \"#000000\", \"family\": \"Balto, sans-serif\", \"size\": 16}, \"ticklen\": 10, \"ticks\": \"outside\", \"ticktext\": [\"0\", \"2\", \"4\", \"6\", \"8\"], \"tickvals\": [0, 2, 4, 6], \"tickwidth\": 2, \"title\": {\"text\": \"Beta Weight (a.u.)\"}, \"zeroline\": false, \"zerolinecolor\": \"Black\", \"zerolinewidth\": 0}},\n",
       "                        {\"responsive\": true}\n",
       "                    ).then(function(){\n",
       "                            \n",
       "var gd = document.getElementById('77305b69-d64b-4bb7-b35b-42e044b918b0');\n",
       "var x = new MutationObserver(function (mutations, observer) {{\n",
       "        var display = window.getComputedStyle(gd).display;\n",
       "        if (!display || display === 'none') {{\n",
       "            console.log([gd, 'removed!']);\n",
       "            Plotly.purge(gd);\n",
       "            observer.disconnect();\n",
       "        }}\n",
       "}});\n",
       "\n",
       "// Listen for the removal of the full notebook cells\n",
       "var notebookContainer = gd.closest('#notebook-container');\n",
       "if (notebookContainer) {{\n",
       "    x.observe(notebookContainer, {childList: true});\n",
       "}}\n",
       "\n",
       "// Listen for the clearing of the current output cell\n",
       "var outputEl = gd.closest('.output');\n",
       "if (outputEl) {{\n",
       "    x.observe(outputEl, {childList: true});\n",
       "}}\n",
       "\n",
       "                        })\n",
       "                };\n",
       "                });\n",
       "            </script>\n",
       "        </div>"
      ]
     },
     "metadata": {},
     "output_type": "display_data"
    }
   ],
   "source": [
    "fig = go.Figure()\n",
    "\n",
    "fig.update_yaxes(zeroline=False, zerolinewidth=0, zerolinecolor='Black')\n",
    "fig.add_shape(type=\"line\", xref=\"x\", yref=\"y\", x0=-0.45, y0=0, x1= 3.45, y1=0, \n",
    "              line=dict(color=\"#595858\", width=2.2,))\n",
    "\n",
    "dat = log_reg_xpct.loc[log_reg_xpct.expectations ==0.9,:]\n",
    "fig.add_trace(go.Bar(y=dat['weight'], x=dat['movements'],\n",
    "    name='0.9', marker_color='#023e8a'))\n",
    "\n",
    "dat = log_reg_xpct.loc[log_reg_xpct.expectations ==0.6,:]\n",
    "fig.add_trace(go.Bar(y=dat['weight'], x=dat['movements'],\n",
    "    name='.6', marker_color='#0096c7'))\n",
    "\n",
    "dat = log_reg_xpct.loc[log_reg_xpct.expectations ==0.15,:]\n",
    "fig.add_trace(go.Bar(y=dat['weight'], x=dat['movements'],\n",
    "    name='.15', marker_color='#48cae4'))\n",
    "\n",
    "dat = log_reg_xpct.loc[log_reg_xpct.expectations ==0, :]\n",
    "fig.add_trace(go.Bar(y=dat['weight'], x=dat['movements'],\n",
    "    name='0', marker_color='#caf0f8'))\n",
    "\n",
    "#fig.update_layout(barmode='group', xaxis_tickangle=-45)\n",
    "\n",
    "fig.update_layout(\n",
    "    boxgroupgap=0 # group together boxes of the different traces for each value of x\n",
    ")\n",
    "fig.update_layout(template='plotly_white', xaxis=dict(showgrid=False),\n",
    "    yaxis=dict(gridcolor='white'))\n",
    "\n",
    "fig.update_xaxes(showline=False, linewidth=1.5, linecolor='#696969')\n",
    "fig.update_yaxes(showline=True, linewidth=1.5, linecolor='#696969',tickfont=dict(family='Balto, sans-serif', color='#000000', size=16))\n",
    "\n",
    "fig.update_xaxes(tickvals = [0, 1, 2, 3], ticktext=['0', '1', '2', '>2'], tickangle=0, tickfont=dict(family='Balto, sans-serif', color='#424242', size=18))\n",
    "fig.update_yaxes(tickvals= [0,2,4,6], ticktext=['0', '2', '4', '6', '8'])\n",
    "fig.update_yaxes(ticks=\"outside\", tickwidth=2, tickcolor='#696969', ticklen=10)\n",
    "fig.update_xaxes(ticks=\"outside\", tickwidth=2, tickcolor='#696969', ticklen=10)\n",
    "\n",
    "fig.update_yaxes(showgrid=False)\n",
    "fig.update_layout(yaxis_title=\"Beta Weight (a.u.)\",\n",
    "    font=dict(family=\"Balto, sans-serif\", size=15, color= \"#424242\" ))\n",
    "fig.update_layout(xaxis_title=\"Distance from the epicentre of the face (in movements)\",\n",
    "    font=dict(family=\"Balto, sans-serif\", size=15, color= \"#424242\" ))\n",
    "\n",
    "fig.update_traces(showlegend=False)\n",
    "\n",
    "fig['layout']['yaxis'].update(range=[-0.01, 6.02]);\n",
    "\n",
    "fig.show()"
   ]
  },
  {
   "cell_type": "code",
   "execution_count": 94,
   "metadata": {},
   "outputs": [],
   "source": [
    "fig.write_html(r\"C:\\Users\\Angel\\Dropbox\\Documents academics\\berlinWeightSimulation.html\")\n",
    "# change the path to file"
   ]
  }
 ],
 "metadata": {
  "kernelspec": {
   "display_name": "Python 3",
   "language": "python",
   "name": "python3"
  },
  "language_info": {
   "codemirror_mode": {
    "name": "ipython",
    "version": 3
   },
   "file_extension": ".py",
   "mimetype": "text/x-python",
   "name": "python",
   "nbconvert_exporter": "python",
   "pygments_lexer": "ipython3",
   "version": "3.7.6"
  }
 },
 "nbformat": 4,
 "nbformat_minor": 4
}
